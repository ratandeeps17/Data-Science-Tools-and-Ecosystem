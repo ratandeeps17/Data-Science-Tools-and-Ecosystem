{
 "cells": [
  {
   "cell_type": "markdown",
   "id": "87a653e5-d0ae-431a-87c0-f73686245192",
   "metadata": {
    "tags": []
   },
   "source": [
    "# Data Science Tools And Ecosystem"
   ]
  },
  {
   "cell_type": "markdown",
   "id": "95588918-864c-4401-a256-093db1decefd",
   "metadata": {
    "tags": []
   },
   "source": [
    "**Objectives:**\n"
   ]
  },
  {
   "cell_type": "markdown",
   "id": "eab40d75-ab02-4973-a477-ed6dfcf75a33",
   "metadata": {
    "tags": []
   },
   "source": [
    "* Tools used by Data Scientists\n",
    "* Languages used by Data Scientists\n",
    "* Libraries used by Data Scientists\n",
    "* Arithmetic Expressions in Python"
   ]
  },
  {
   "cell_type": "markdown",
   "id": "8d8c5d28-072c-4cda-879e-7256c55fbbd0",
   "metadata": {},
   "source": [
    "In this Notebook,Data Science Tools and Ecosystem are summarized"
   ]
  },
  {
   "cell_type": "markdown",
   "id": "6ecdb7a5-fcc1-4d1a-bd08-be4c6ebb30c2",
   "metadata": {},
   "source": [
    "Some of the popular languges that Data Scientists use are:"
   ]
  },
  {
   "cell_type": "markdown",
   "id": "56c65ecf-5c3e-4fe9-8c00-ebaf3db34de0",
   "metadata": {},
   "source": [
    "1. Python\n",
    "2. SQL\n",
    "3. R\n",
    "4. C++"
   ]
  },
  {
   "cell_type": "markdown",
   "id": "1b0c9e7a-f234-4afd-a45b-dabd2ed1f26e",
   "metadata": {
    "tags": []
   },
   "source": [
    "Some of the commonly used libraries used by Data Scientists include:"
   ]
  },
  {
   "cell_type": "markdown",
   "id": "38d8dd90-cb29-44eb-b09a-9bc729beee77",
   "metadata": {},
   "source": [
    "1. Pandas\n",
    "2. Matplotlib\n",
    "3. Numpy"
   ]
  },
  {
   "cell_type": "markdown",
   "id": "5c57a490-3bfe-49ea-b573-c327c98f2c6b",
   "metadata": {},
   "source": [
    "| Data Science Tools |\n",
    "| ------------------ |\n",
    "| RStudio |\n",
    "| Apache Hadoop |\n",
    "| Apache Spark |"
   ]
  },
  {
   "cell_type": "markdown",
   "id": "292f626e-c1d1-42fe-bc38-205623648046",
   "metadata": {
    "tags": []
   },
   "source": [
    "#   Below are few examples of Arithmetic Expressions in Python"
   ]
  },
  {
   "cell_type": "code",
   "execution_count": 4,
   "id": "5c0c60fb-6e5e-4b46-9c45-45a071fd3080",
   "metadata": {
    "tags": []
   },
   "outputs": [
    {
     "data": {
      "text/plain": [
       "17"
      ]
     },
     "execution_count": 4,
     "metadata": {},
     "output_type": "execute_result"
    }
   ],
   "source": [
    "#This is a simple arithmetic expression to multiply then add integers\n",
    "(3*4)+5"
   ]
  },
  {
   "cell_type": "code",
   "execution_count": 5,
   "id": "0fd094dd-78e4-48b5-bf66-4cbcaead82ca",
   "metadata": {
    "tags": []
   },
   "outputs": [
    {
     "name": "stdout",
     "output_type": "stream",
     "text": [
      "3.3333333333333335 hours\n"
     ]
    }
   ],
   "source": [
    "#This will convert 200 minutes to hours by dividing from 60\n",
    "a=(200/60)\n",
    "print(a,\"hours\")"
   ]
  },
  {
   "cell_type": "markdown",
   "id": "46f12ac5-5591-4ef8-934d-da48ad74c9e0",
   "metadata": {},
   "source": [
    "#  Author\n",
    "Ratandeep Singh"
   ]
  },
  {
   "cell_type": "code",
   "execution_count": null,
   "id": "2579cdef-d42f-4e4e-93b4-0be0f5673cb1",
   "metadata": {},
   "outputs": [],
   "source": []
  }
 ],
 "metadata": {
  "kernelspec": {
   "display_name": "Python",
   "language": "python",
   "name": "conda-env-python-py"
  },
  "language_info": {
   "codemirror_mode": {
    "name": "ipython",
    "version": 3
   },
   "file_extension": ".py",
   "mimetype": "text/x-python",
   "name": "python",
   "nbconvert_exporter": "python",
   "pygments_lexer": "ipython3",
   "version": "3.7.12"
  }
 },
 "nbformat": 4,
 "nbformat_minor": 5
}
